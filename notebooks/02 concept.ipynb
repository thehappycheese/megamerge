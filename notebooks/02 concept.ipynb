{
 "cells": [
  {
   "cell_type": "code",
   "execution_count": 1,
   "metadata": {},
   "outputs": [],
   "source": [
    "import pandas as pd\n",
    "import numpy as np\n",
    "import megamerge"
   ]
  },
  {
   "cell_type": "code",
   "execution_count": 2,
   "metadata": {},
   "outputs": [],
   "source": [
    "segments = pd.DataFrame(\n",
    "    columns=[\"road\", \"cwy\", \"slk_from\", \"slk_to\"],\n",
    "    data=[\n",
    "        [\"H001\", \"L\",   0, 100],\n",
    "        [\"H001\", \"L\", 100, 200],\n",
    "        [\"H001\", \"L\", 200, 300],\n",
    "        [\"H001\", \"L\", 300, 400],\n",
    "\n",
    "        [\"H001\", \"R\",   0, 100],\n",
    "    ]\n",
    ")\n",
    "\n",
    "data = pd.DataFrame(\n",
    "    columns=[\"road\", \"cwy\", \"slk_from\", \"slk_to\", \"measure\", \"category\"],\n",
    "    data=[                             # overlaps lengths\n",
    "        [\"H001\", \"L\", 50,  140,  1.0, \"A\"],  # 50  40   0  0    [50, 40,  0,  0]\n",
    "        [\"H001\", \"L\", 140, 160,  2.0, \"B\"],  #  0  20   0  0    [ 0, 20,  0,  0]\n",
    "        [\"H001\", \"L\", 160, 180,  3.0, \"B\"],  #  0  20   0  0    [ 0, 20,  0,  0]\n",
    "        [\"H001\", \"L\", 180, 220,  4.0, \"B\"],  #  0  20  20  0    [ 0, 20, 20,  0]\n",
    "        [\"H001\", \"L\", 220, 240,  5.0, \"C\"],  #  0   0  20  0    [ 0,  0, 20,  0]\n",
    "        [\"H001\", \"L\", 240, 260,  5.0, \"C\"],  #  0   0  20  0    [ 0,  0, 20,  0]\n",
    "        [\"H001\", \"L\", 260, 280,  6.0, \"D\"],  #  0   0  20  0    [ 0,  0, 20,  0]\n",
    "        [\"H001\", \"L\", 280, 300,  7.0, \"E\"],  #  0   0  20  0    [ 0,  0, 20,  0]\n",
    "        [\"H001\", \"L\", 300, 320,  8.0, \"F\"],  #  0   0     20    [ 0,  0,  0, 20]\n",
    "\n",
    "        [\"H001\", \"R\",  10,  80,  9.0, \"G\"],  #  0   0     20\n",
    "        [\"H001\", \"R\",  80, 120, 10.0, \"H\"],  #  0   0     20\n",
    "    ]\n",
    ")\n",
    "\n",
    "expected_result = pd.DataFrame(\n",
    "    columns=[\"road\", \"cwy\", \"slk_from\", \"slk_to\",  \"measure longest value\",  \"category longest value\"],\n",
    "    data=[\n",
    "        [\"H001\", \"L\",   0, 100,  1.0,  \"A\"],\n",
    "        [\"H001\", \"L\", 100, 200,  1.0,  \"B\"],\n",
    "        [\"H001\", \"L\", 200, 300,  5.0,  \"C\"],\n",
    "        [\"H001\", \"L\", 300, 400,  8.0,  \"F\"],\n",
    "\n",
    "        [\"H001\", \"R\",   0, 100,  9.0,  \"G\"],\n",
    "    ]\n",
    ")"
   ]
  },
  {
   "cell_type": "code",
   "execution_count": 5,
   "metadata": {},
   "outputs": [],
   "source": [
    "res = megamerge.merge_interval_index(\n",
    "    segments.set_index([\"road\",\"cwy\"]).loc[(\"H001\", \"L\"),[\"slk_from\", \"slk_to\"]].to_numpy(dtype=\"f8\"),\n",
    "    data    .set_index([\"road\",\"cwy\"]).loc[(\"H001\", \"L\"),[\"slk_from\", \"slk_to\"]].to_numpy(dtype=\"f8\"),\n",
    "    0\n",
    ")"
   ]
  },
  {
   "cell_type": "code",
   "execution_count": 6,
   "metadata": {},
   "outputs": [
    {
     "data": {
      "text/plain": [
       "[(array([0], dtype=uint64), array([50.])),\n",
       " (array([0, 1, 2, 3], dtype=uint64), array([40., 20., 20., 20.])),\n",
       " (array([3, 4, 5, 6, 7], dtype=uint64), array([20., 20., 20., 20., 20.])),\n",
       " (array([8], dtype=uint64), array([20.]))]"
      ]
     },
     "execution_count": 6,
     "metadata": {},
     "output_type": "execute_result"
    }
   ],
   "source": [
    "list(res)"
   ]
  },
  {
   "cell_type": "code",
   "execution_count": 27,
   "metadata": {},
   "outputs": [],
   "source": [
    "# generate segmentation\n",
    "big_segments = pd.DataFrame(\n",
    "    columns=[\"road\", \"cwy\", \"slk_from\", \"slk_to\"],\n",
    "    data   =[\n",
    "        [\"H001\", \"L\",   index*500, (index+1)*500] for index in range(int(3000 / 0.010))\n",
    "    ]\n",
    ")\n",
    "\n",
    "big_data = pd.DataFrame(\n",
    "    columns= [\"road\", \"cwy\", \"slk_from\", \"slk_to\", \"measure\"],\n",
    "    data   = [\n",
    "        [\"H001\", \"L\",   (index)*10, (index+1)*10, index] for index in range(int(3000 / 0.010))\n",
    "    ]\n",
    ")"
   ]
  },
  {
   "cell_type": "code",
   "execution_count": null,
   "metadata": {},
   "outputs": [],
   "source": [
    "res = megamerge.merge_interval_index(\n",
    "    big_segments.set_index([\"road\",\"cwy\"]).loc[(\"H001\", \"L\"),[\"slk_from\", \"slk_to\"]].to_numpy(dtype=\"f8\"),\n",
    "    big_data    .set_index([\"road\",\"cwy\"]).loc[(\"H001\", \"L\"),[\"slk_from\", \"slk_to\"]].to_numpy(dtype=\"f8\"),\n",
    "    0\n",
    ")\n",
    "res_list = list(res)"
   ]
  },
  {
   "cell_type": "code",
   "execution_count": 28,
   "metadata": {},
   "outputs": [
    {
     "ename": "KeyboardInterrupt",
     "evalue": "",
     "output_type": "error",
     "traceback": [
      "\u001b[1;31m---------------------------------------------------------------------------\u001b[0m",
      "\u001b[1;31mKeyboardInterrupt\u001b[0m                         Traceback (most recent call last)",
      "Input \u001b[1;32mIn [28]\u001b[0m, in \u001b[0;36m<cell line: 2>\u001b[1;34m()\u001b[0m\n\u001b[0;32m      1\u001b[0m result \u001b[39m=\u001b[39m []\n\u001b[0;32m      2\u001b[0m \u001b[39mfor\u001b[39;00m index, overlap \u001b[39min\u001b[39;00m megamerge\u001b[39m.\u001b[39mmerge_interval_index(\n\u001b[0;32m      3\u001b[0m     big_segments\u001b[39m.\u001b[39mset_index([\u001b[39m\"\u001b[39m\u001b[39mroad\u001b[39m\u001b[39m\"\u001b[39m,\u001b[39m\"\u001b[39m\u001b[39mcwy\u001b[39m\u001b[39m\"\u001b[39m])\u001b[39m.\u001b[39mloc[(\u001b[39m\"\u001b[39m\u001b[39mH001\u001b[39m\u001b[39m\"\u001b[39m, \u001b[39m\"\u001b[39m\u001b[39mL\u001b[39m\u001b[39m\"\u001b[39m),[\u001b[39m\"\u001b[39m\u001b[39mslk_from\u001b[39m\u001b[39m\"\u001b[39m, \u001b[39m\"\u001b[39m\u001b[39mslk_to\u001b[39m\u001b[39m\"\u001b[39m]]\u001b[39m.\u001b[39mto_numpy(dtype\u001b[39m=\u001b[39m\u001b[39m\"\u001b[39m\u001b[39mf8\u001b[39m\u001b[39m\"\u001b[39m),\n\u001b[0;32m      4\u001b[0m     big_data    \u001b[39m.\u001b[39mset_index([\u001b[39m\"\u001b[39m\u001b[39mroad\u001b[39m\u001b[39m\"\u001b[39m,\u001b[39m\"\u001b[39m\u001b[39mcwy\u001b[39m\u001b[39m\"\u001b[39m])\u001b[39m.\u001b[39mloc[(\u001b[39m\"\u001b[39m\u001b[39mH001\u001b[39m\u001b[39m\"\u001b[39m, \u001b[39m\"\u001b[39m\u001b[39mL\u001b[39m\u001b[39m\"\u001b[39m),[\u001b[39m\"\u001b[39m\u001b[39mslk_from\u001b[39m\u001b[39m\"\u001b[39m, \u001b[39m\"\u001b[39m\u001b[39mslk_to\u001b[39m\u001b[39m\"\u001b[39m]]\u001b[39m.\u001b[39mto_numpy(dtype\u001b[39m=\u001b[39m\u001b[39m\"\u001b[39m\u001b[39mf8\u001b[39m\u001b[39m\"\u001b[39m),\n\u001b[0;32m      5\u001b[0m     \u001b[39m0\u001b[39m\n\u001b[0;32m      6\u001b[0m ):\n\u001b[1;32m----> 7\u001b[0m     data \u001b[39m=\u001b[39m big_data[\u001b[39m\"\u001b[39;49m\u001b[39mmeasure\u001b[39;49m\u001b[39m\"\u001b[39;49m]\u001b[39m.\u001b[39;49miloc[index]\n\u001b[0;32m      8\u001b[0m     namask \u001b[39m=\u001b[39m \u001b[39m~\u001b[39mdata\u001b[39m.\u001b[39misna()\n\u001b[0;32m      9\u001b[0m     data \u001b[39m=\u001b[39m data[namask]\n",
      "File \u001b[1;32me:\\GitProjects\\megamerge\\.env\\lib\\site-packages\\pandas\\core\\indexing.py:967\u001b[0m, in \u001b[0;36m_LocationIndexer.__getitem__\u001b[1;34m(self, key)\u001b[0m\n\u001b[0;32m    <a href='file:///e%3A/GitProjects/megamerge/.env/lib/site-packages/pandas/core/indexing.py?line=963'>964</a>\u001b[0m axis \u001b[39m=\u001b[39m \u001b[39mself\u001b[39m\u001b[39m.\u001b[39maxis \u001b[39mor\u001b[39;00m \u001b[39m0\u001b[39m\n\u001b[0;32m    <a href='file:///e%3A/GitProjects/megamerge/.env/lib/site-packages/pandas/core/indexing.py?line=965'>966</a>\u001b[0m maybe_callable \u001b[39m=\u001b[39m com\u001b[39m.\u001b[39mapply_if_callable(key, \u001b[39mself\u001b[39m\u001b[39m.\u001b[39mobj)\n\u001b[1;32m--> <a href='file:///e%3A/GitProjects/megamerge/.env/lib/site-packages/pandas/core/indexing.py?line=966'>967</a>\u001b[0m \u001b[39mreturn\u001b[39;00m \u001b[39mself\u001b[39;49m\u001b[39m.\u001b[39;49m_getitem_axis(maybe_callable, axis\u001b[39m=\u001b[39;49maxis)\n",
      "File \u001b[1;32me:\\GitProjects\\megamerge\\.env\\lib\\site-packages\\pandas\\core\\indexing.py:1511\u001b[0m, in \u001b[0;36m_iLocIndexer._getitem_axis\u001b[1;34m(self, key, axis)\u001b[0m\n\u001b[0;32m   <a href='file:///e%3A/GitProjects/megamerge/.env/lib/site-packages/pandas/core/indexing.py?line=1508'>1509</a>\u001b[0m \u001b[39m# a list of integers\u001b[39;00m\n\u001b[0;32m   <a href='file:///e%3A/GitProjects/megamerge/.env/lib/site-packages/pandas/core/indexing.py?line=1509'>1510</a>\u001b[0m \u001b[39melif\u001b[39;00m is_list_like_indexer(key):\n\u001b[1;32m-> <a href='file:///e%3A/GitProjects/megamerge/.env/lib/site-packages/pandas/core/indexing.py?line=1510'>1511</a>\u001b[0m     \u001b[39mreturn\u001b[39;00m \u001b[39mself\u001b[39;49m\u001b[39m.\u001b[39;49m_get_list_axis(key, axis\u001b[39m=\u001b[39;49maxis)\n\u001b[0;32m   <a href='file:///e%3A/GitProjects/megamerge/.env/lib/site-packages/pandas/core/indexing.py?line=1512'>1513</a>\u001b[0m \u001b[39m# a single integer\u001b[39;00m\n\u001b[0;32m   <a href='file:///e%3A/GitProjects/megamerge/.env/lib/site-packages/pandas/core/indexing.py?line=1513'>1514</a>\u001b[0m \u001b[39melse\u001b[39;00m:\n\u001b[0;32m   <a href='file:///e%3A/GitProjects/megamerge/.env/lib/site-packages/pandas/core/indexing.py?line=1514'>1515</a>\u001b[0m     key \u001b[39m=\u001b[39m item_from_zerodim(key)\n",
      "File \u001b[1;32me:\\GitProjects\\megamerge\\.env\\lib\\site-packages\\pandas\\core\\indexing.py:1482\u001b[0m, in \u001b[0;36m_iLocIndexer._get_list_axis\u001b[1;34m(self, key, axis)\u001b[0m\n\u001b[0;32m   <a href='file:///e%3A/GitProjects/megamerge/.env/lib/site-packages/pandas/core/indexing.py?line=1464'>1465</a>\u001b[0m \u001b[39m\"\"\"\u001b[39;00m\n\u001b[0;32m   <a href='file:///e%3A/GitProjects/megamerge/.env/lib/site-packages/pandas/core/indexing.py?line=1465'>1466</a>\u001b[0m \u001b[39mReturn Series values by list or array of integers.\u001b[39;00m\n\u001b[0;32m   <a href='file:///e%3A/GitProjects/megamerge/.env/lib/site-packages/pandas/core/indexing.py?line=1466'>1467</a>\u001b[0m \n\u001b[1;32m   (...)\u001b[0m\n\u001b[0;32m   <a href='file:///e%3A/GitProjects/megamerge/.env/lib/site-packages/pandas/core/indexing.py?line=1478'>1479</a>\u001b[0m \u001b[39m`axis` can only be zero.\u001b[39;00m\n\u001b[0;32m   <a href='file:///e%3A/GitProjects/megamerge/.env/lib/site-packages/pandas/core/indexing.py?line=1479'>1480</a>\u001b[0m \u001b[39m\"\"\"\u001b[39;00m\n\u001b[0;32m   <a href='file:///e%3A/GitProjects/megamerge/.env/lib/site-packages/pandas/core/indexing.py?line=1480'>1481</a>\u001b[0m \u001b[39mtry\u001b[39;00m:\n\u001b[1;32m-> <a href='file:///e%3A/GitProjects/megamerge/.env/lib/site-packages/pandas/core/indexing.py?line=1481'>1482</a>\u001b[0m     \u001b[39mreturn\u001b[39;00m \u001b[39mself\u001b[39;49m\u001b[39m.\u001b[39;49mobj\u001b[39m.\u001b[39;49m_take_with_is_copy(key, axis\u001b[39m=\u001b[39;49maxis)\n\u001b[0;32m   <a href='file:///e%3A/GitProjects/megamerge/.env/lib/site-packages/pandas/core/indexing.py?line=1482'>1483</a>\u001b[0m \u001b[39mexcept\u001b[39;00m \u001b[39mIndexError\u001b[39;00m \u001b[39mas\u001b[39;00m err:\n\u001b[0;32m   <a href='file:///e%3A/GitProjects/megamerge/.env/lib/site-packages/pandas/core/indexing.py?line=1483'>1484</a>\u001b[0m     \u001b[39m# re-raise with different error message\u001b[39;00m\n\u001b[0;32m   <a href='file:///e%3A/GitProjects/megamerge/.env/lib/site-packages/pandas/core/indexing.py?line=1484'>1485</a>\u001b[0m     \u001b[39mraise\u001b[39;00m \u001b[39mIndexError\u001b[39;00m(\u001b[39m\"\u001b[39m\u001b[39mpositional indexers are out-of-bounds\u001b[39m\u001b[39m\"\u001b[39m) \u001b[39mfrom\u001b[39;00m \u001b[39merr\u001b[39;00m\n",
      "File \u001b[1;32me:\\GitProjects\\megamerge\\.env\\lib\\site-packages\\pandas\\core\\series.py:922\u001b[0m, in \u001b[0;36mSeries._take_with_is_copy\u001b[1;34m(self, indices, axis)\u001b[0m\n\u001b[0;32m    <a href='file:///e%3A/GitProjects/megamerge/.env/lib/site-packages/pandas/core/series.py?line=912'>913</a>\u001b[0m \u001b[39mdef\u001b[39;00m \u001b[39m_take_with_is_copy\u001b[39m(\u001b[39mself\u001b[39m, indices, axis\u001b[39m=\u001b[39m\u001b[39m0\u001b[39m) \u001b[39m-\u001b[39m\u001b[39m>\u001b[39m Series:\n\u001b[0;32m    <a href='file:///e%3A/GitProjects/megamerge/.env/lib/site-packages/pandas/core/series.py?line=913'>914</a>\u001b[0m     \u001b[39m\"\"\"\u001b[39;00m\n\u001b[0;32m    <a href='file:///e%3A/GitProjects/megamerge/.env/lib/site-packages/pandas/core/series.py?line=914'>915</a>\u001b[0m \u001b[39m    Internal version of the `take` method that sets the `_is_copy`\u001b[39;00m\n\u001b[0;32m    <a href='file:///e%3A/GitProjects/megamerge/.env/lib/site-packages/pandas/core/series.py?line=915'>916</a>\u001b[0m \u001b[39m    attribute to keep track of the parent dataframe (using in indexing\u001b[39;00m\n\u001b[1;32m   (...)\u001b[0m\n\u001b[0;32m    <a href='file:///e%3A/GitProjects/megamerge/.env/lib/site-packages/pandas/core/series.py?line=919'>920</a>\u001b[0m \u001b[39m    See the docstring of `take` for full explanation of the parameters.\u001b[39;00m\n\u001b[0;32m    <a href='file:///e%3A/GitProjects/megamerge/.env/lib/site-packages/pandas/core/series.py?line=920'>921</a>\u001b[0m \u001b[39m    \"\"\"\u001b[39;00m\n\u001b[1;32m--> <a href='file:///e%3A/GitProjects/megamerge/.env/lib/site-packages/pandas/core/series.py?line=921'>922</a>\u001b[0m     \u001b[39mreturn\u001b[39;00m \u001b[39mself\u001b[39;49m\u001b[39m.\u001b[39;49mtake(indices\u001b[39m=\u001b[39;49mindices, axis\u001b[39m=\u001b[39;49maxis)\n",
      "File \u001b[1;32me:\\GitProjects\\megamerge\\.env\\lib\\site-packages\\pandas\\core\\series.py:907\u001b[0m, in \u001b[0;36mSeries.take\u001b[1;34m(self, indices, axis, is_copy, **kwargs)\u001b[0m\n\u001b[0;32m    <a href='file:///e%3A/GitProjects/megamerge/.env/lib/site-packages/pandas/core/series.py?line=903'>904</a>\u001b[0m nv\u001b[39m.\u001b[39mvalidate_take((), kwargs)\n\u001b[0;32m    <a href='file:///e%3A/GitProjects/megamerge/.env/lib/site-packages/pandas/core/series.py?line=905'>906</a>\u001b[0m indices \u001b[39m=\u001b[39m ensure_platform_int(indices)\n\u001b[1;32m--> <a href='file:///e%3A/GitProjects/megamerge/.env/lib/site-packages/pandas/core/series.py?line=906'>907</a>\u001b[0m new_index \u001b[39m=\u001b[39m \u001b[39mself\u001b[39;49m\u001b[39m.\u001b[39;49mindex\u001b[39m.\u001b[39;49mtake(indices)\n\u001b[0;32m    <a href='file:///e%3A/GitProjects/megamerge/.env/lib/site-packages/pandas/core/series.py?line=907'>908</a>\u001b[0m new_values \u001b[39m=\u001b[39m \u001b[39mself\u001b[39m\u001b[39m.\u001b[39m_values\u001b[39m.\u001b[39mtake(indices)\n\u001b[0;32m    <a href='file:///e%3A/GitProjects/megamerge/.env/lib/site-packages/pandas/core/series.py?line=909'>910</a>\u001b[0m result \u001b[39m=\u001b[39m \u001b[39mself\u001b[39m\u001b[39m.\u001b[39m_constructor(new_values, index\u001b[39m=\u001b[39mnew_index, fastpath\u001b[39m=\u001b[39m\u001b[39mTrue\u001b[39;00m)\n",
      "File \u001b[1;32me:\\GitProjects\\megamerge\\.env\\lib\\site-packages\\pandas\\core\\indexes\\base.py:1113\u001b[0m, in \u001b[0;36mIndex.take\u001b[1;34m(self, indices, axis, allow_fill, fill_value, **kwargs)\u001b[0m\n\u001b[0;32m   <a href='file:///e%3A/GitProjects/megamerge/.env/lib/site-packages/pandas/core/indexes/base.py?line=1110'>1111</a>\u001b[0m values \u001b[39m=\u001b[39m \u001b[39mself\u001b[39m\u001b[39m.\u001b[39m_values\n\u001b[0;32m   <a href='file:///e%3A/GitProjects/megamerge/.env/lib/site-packages/pandas/core/indexes/base.py?line=1111'>1112</a>\u001b[0m \u001b[39mif\u001b[39;00m \u001b[39misinstance\u001b[39m(values, np\u001b[39m.\u001b[39mndarray):\n\u001b[1;32m-> <a href='file:///e%3A/GitProjects/megamerge/.env/lib/site-packages/pandas/core/indexes/base.py?line=1112'>1113</a>\u001b[0m     taken \u001b[39m=\u001b[39m algos\u001b[39m.\u001b[39;49mtake(\n\u001b[0;32m   <a href='file:///e%3A/GitProjects/megamerge/.env/lib/site-packages/pandas/core/indexes/base.py?line=1113'>1114</a>\u001b[0m         values, indices, allow_fill\u001b[39m=\u001b[39;49mallow_fill, fill_value\u001b[39m=\u001b[39;49m\u001b[39mself\u001b[39;49m\u001b[39m.\u001b[39;49m_na_value\n\u001b[0;32m   <a href='file:///e%3A/GitProjects/megamerge/.env/lib/site-packages/pandas/core/indexes/base.py?line=1114'>1115</a>\u001b[0m     )\n\u001b[0;32m   <a href='file:///e%3A/GitProjects/megamerge/.env/lib/site-packages/pandas/core/indexes/base.py?line=1115'>1116</a>\u001b[0m \u001b[39melse\u001b[39;00m:\n\u001b[0;32m   <a href='file:///e%3A/GitProjects/megamerge/.env/lib/site-packages/pandas/core/indexes/base.py?line=1116'>1117</a>\u001b[0m     \u001b[39m# algos.take passes 'axis' keyword which not all EAs accept\u001b[39;00m\n\u001b[0;32m   <a href='file:///e%3A/GitProjects/megamerge/.env/lib/site-packages/pandas/core/indexes/base.py?line=1117'>1118</a>\u001b[0m     taken \u001b[39m=\u001b[39m values\u001b[39m.\u001b[39mtake(\n\u001b[0;32m   <a href='file:///e%3A/GitProjects/megamerge/.env/lib/site-packages/pandas/core/indexes/base.py?line=1118'>1119</a>\u001b[0m         indices, allow_fill\u001b[39m=\u001b[39mallow_fill, fill_value\u001b[39m=\u001b[39m\u001b[39mself\u001b[39m\u001b[39m.\u001b[39m_na_value\n\u001b[0;32m   <a href='file:///e%3A/GitProjects/megamerge/.env/lib/site-packages/pandas/core/indexes/base.py?line=1119'>1120</a>\u001b[0m     )\n",
      "File \u001b[1;32me:\\GitProjects\\megamerge\\.env\\lib\\site-packages\\pandas\\core\\algorithms.py:1445\u001b[0m, in \u001b[0;36mtake\u001b[1;34m(arr, indices, axis, allow_fill, fill_value)\u001b[0m\n\u001b[0;32m   <a href='file:///e%3A/GitProjects/megamerge/.env/lib/site-packages/pandas/core/algorithms.py?line=1439'>1440</a>\u001b[0m     result \u001b[39m=\u001b[39m take_nd(\n\u001b[0;32m   <a href='file:///e%3A/GitProjects/megamerge/.env/lib/site-packages/pandas/core/algorithms.py?line=1440'>1441</a>\u001b[0m         arr, indices, axis\u001b[39m=\u001b[39maxis, allow_fill\u001b[39m=\u001b[39m\u001b[39mTrue\u001b[39;00m, fill_value\u001b[39m=\u001b[39mfill_value\n\u001b[0;32m   <a href='file:///e%3A/GitProjects/megamerge/.env/lib/site-packages/pandas/core/algorithms.py?line=1441'>1442</a>\u001b[0m     )\n\u001b[0;32m   <a href='file:///e%3A/GitProjects/megamerge/.env/lib/site-packages/pandas/core/algorithms.py?line=1442'>1443</a>\u001b[0m \u001b[39melse\u001b[39;00m:\n\u001b[0;32m   <a href='file:///e%3A/GitProjects/megamerge/.env/lib/site-packages/pandas/core/algorithms.py?line=1443'>1444</a>\u001b[0m     \u001b[39m# NumPy style\u001b[39;00m\n\u001b[1;32m-> <a href='file:///e%3A/GitProjects/megamerge/.env/lib/site-packages/pandas/core/algorithms.py?line=1444'>1445</a>\u001b[0m     result \u001b[39m=\u001b[39m arr\u001b[39m.\u001b[39;49mtake(indices, axis\u001b[39m=\u001b[39;49maxis)\n\u001b[0;32m   <a href='file:///e%3A/GitProjects/megamerge/.env/lib/site-packages/pandas/core/algorithms.py?line=1445'>1446</a>\u001b[0m \u001b[39mreturn\u001b[39;00m result\n",
      "\u001b[1;31mKeyboardInterrupt\u001b[0m: "
     ]
    }
   ],
   "source": [
    "result = []\n",
    "for index, overlap in res_list:\n",
    "    data = big_data[\"measure\"].iloc[index]\n",
    "    namask = ~data.isna()\n",
    "    data = data[namask]\n",
    "    overlap = overlap[namask]\n",
    "    \n",
    "    result.append(\n",
    "        np.sum(data*overlap/np.sum(overlap))\n",
    "    )\n",
    "result"
   ]
  },
  {
   "cell_type": "code",
   "execution_count": 25,
   "metadata": {},
   "outputs": [
    {
     "data": {
      "text/plain": [
       "300000"
      ]
     },
     "execution_count": 25,
     "metadata": {},
     "output_type": "execute_result"
    }
   ],
   "source": [
    "big_segments.__len__()"
   ]
  },
  {
   "cell_type": "code",
   "execution_count": 19,
   "metadata": {},
   "outputs": [
    {
     "data": {
      "text/html": [
       "<div>\n",
       "<style scoped>\n",
       "    .dataframe tbody tr th:only-of-type {\n",
       "        vertical-align: middle;\n",
       "    }\n",
       "\n",
       "    .dataframe tbody tr th {\n",
       "        vertical-align: top;\n",
       "    }\n",
       "\n",
       "    .dataframe thead th {\n",
       "        text-align: right;\n",
       "    }\n",
       "</style>\n",
       "<table border=\"1\" class=\"dataframe\">\n",
       "  <thead>\n",
       "    <tr style=\"text-align: right;\">\n",
       "      <th></th>\n",
       "      <th>road</th>\n",
       "      <th>cwy</th>\n",
       "      <th>slk_from</th>\n",
       "      <th>slk_to</th>\n",
       "      <th>measure</th>\n",
       "    </tr>\n",
       "  </thead>\n",
       "  <tbody>\n",
       "    <tr>\n",
       "      <th>0</th>\n",
       "      <td>H001</td>\n",
       "      <td>L</td>\n",
       "      <td>0</td>\n",
       "      <td>10</td>\n",
       "      <td>0</td>\n",
       "    </tr>\n",
       "    <tr>\n",
       "      <th>1</th>\n",
       "      <td>H001</td>\n",
       "      <td>L</td>\n",
       "      <td>10</td>\n",
       "      <td>20</td>\n",
       "      <td>1</td>\n",
       "    </tr>\n",
       "    <tr>\n",
       "      <th>2</th>\n",
       "      <td>H001</td>\n",
       "      <td>L</td>\n",
       "      <td>20</td>\n",
       "      <td>30</td>\n",
       "      <td>2</td>\n",
       "    </tr>\n",
       "    <tr>\n",
       "      <th>3</th>\n",
       "      <td>H001</td>\n",
       "      <td>L</td>\n",
       "      <td>30</td>\n",
       "      <td>40</td>\n",
       "      <td>3</td>\n",
       "    </tr>\n",
       "    <tr>\n",
       "      <th>4</th>\n",
       "      <td>H001</td>\n",
       "      <td>L</td>\n",
       "      <td>40</td>\n",
       "      <td>50</td>\n",
       "      <td>4</td>\n",
       "    </tr>\n",
       "  </tbody>\n",
       "</table>\n",
       "</div>"
      ],
      "text/plain": [
       "   road cwy  slk_from  slk_to  measure\n",
       "0  H001   L         0      10        0\n",
       "1  H001   L        10      20        1\n",
       "2  H001   L        20      30        2\n",
       "3  H001   L        30      40        3\n",
       "4  H001   L        40      50        4"
      ]
     },
     "execution_count": 19,
     "metadata": {},
     "output_type": "execute_result"
    }
   ],
   "source": [
    "big_data.head(5)"
   ]
  },
  {
   "cell_type": "code",
   "execution_count": 26,
   "metadata": {},
   "outputs": [
    {
     "data": {
      "text/plain": [
       "0.1"
      ]
     },
     "execution_count": 26,
     "metadata": {},
     "output_type": "execute_result"
    }
   ],
   "source": [
    "300000/3000000"
   ]
  },
  {
   "cell_type": "code",
   "execution_count": null,
   "metadata": {},
   "outputs": [],
   "source": []
  }
 ],
 "metadata": {
  "interpreter": {
   "hash": "59610be06a27efbae3d03b5ba2f3754cb34284f156249338a2446f82a43c331a"
  },
  "kernelspec": {
   "display_name": "Python 3.9.7 ('.env': venv)",
   "language": "python",
   "name": "python3"
  },
  "language_info": {
   "codemirror_mode": {
    "name": "ipython",
    "version": 3
   },
   "file_extension": ".py",
   "mimetype": "text/x-python",
   "name": "python",
   "nbconvert_exporter": "python",
   "pygments_lexer": "ipython3",
   "version": "3.9.7"
  },
  "orig_nbformat": 4
 },
 "nbformat": 4,
 "nbformat_minor": 2
}
